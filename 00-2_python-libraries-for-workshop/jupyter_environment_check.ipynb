{
 "cells": [
  {
   "cell_type": "code",
   "execution_count": 1,
   "id": "18d54544-92d0-412c-8e28-f9083b2bab6f",
   "metadata": {},
   "outputs": [
    {
     "name": "stdout",
     "output_type": "stream",
     "text": [
      "[OK] Your Python version is 3.9.16\n"
     ]
    }
   ],
   "source": [
    "from python_environment_check import check_packages"
   ]
  },
  {
   "cell_type": "code",
   "execution_count": 2,
   "id": "60e03297-4337-4181-b8eb-f483f406954a",
   "metadata": {},
   "outputs": [
    {
     "name": "stdout",
     "output_type": "stream",
     "text": [
      "[OK] numpy 1.24.3\n",
      "[OK] scipy 1.10.1\n",
      "[OK] pandas 2.0.2\n",
      "[OK] matplotlib 3.7.1\n",
      "[OK] sklearn 1.2.2\n",
      "[OK] watermark 2.4.2\n",
      "[OK] torch 2.0.1\n",
      "[OK] torchvision 0.15.2\n",
      "[OK] torchmetrics 0.11.4\n",
      "[OK] transformers 4.30.2\n",
      "[OK] lightning 2.0.3\n"
     ]
    }
   ],
   "source": [
    "d = {\n",
    "    'numpy': '1.24.3',\n",
    "    'scipy': '1.10.1',\n",
    "    'pandas': '2.0.2',\n",
    "    'matplotlib': '3.7.1',\n",
    "    'sklearn': '1.2.2',\n",
    "    'watermark': '2.4.2',\n",
    "    'torch': '2.0.1',\n",
    "    'torchvision': '0.15.2',\n",
    "    'torchmetrics': '0.11.4',\n",
    "    'transformers': '4.30.2',\n",
    "    'lightning': '2.0.3'\n",
    "\n",
    "}\n",
    "check_packages(d)"
   ]
  },
  {
   "cell_type": "code",
   "execution_count": 3,
   "id": "9d696044-9272-4b96-8305-34602807bb94",
   "metadata": {},
   "outputs": [],
   "source": [
    "%load_ext watermark"
   ]
  },
  {
   "cell_type": "code",
   "execution_count": 4,
   "id": "ce321731-a15a-4579-b33b-035730371eb3",
   "metadata": {},
   "outputs": [
    {
     "name": "stdout",
     "output_type": "stream",
     "text": [
      "numpy       : 1.24.3\n",
      "scipy       : 1.10.1\n",
      "pandas      : 2.0.2\n",
      "matplotlib  : 3.7.1\n",
      "sklearn     : 1.2.2\n",
      "watermark   : 2.4.2\n",
      "torch       : 2.0.1\n",
      "torchvision : 0.15.2\n",
      "torchmetrics: 0.11.4\n",
      "transformers: 4.30.2\n",
      "lightning   : 2.0.3\n",
      "\n",
      "conda environment: dl-workshop\n",
      "\n"
     ]
    }
   ],
   "source": [
    "%watermark --conda -p numpy,scipy,pandas,matplotlib,sklearn,watermark,torch,torchvision,torchmetrics,transformers,lightning"
   ]
  }
 ],
 "metadata": {
  "kernelspec": {
   "display_name": "Python 3 (ipykernel)",
   "language": "python",
   "name": "python3"
  },
  "language_info": {
   "codemirror_mode": {
    "name": "ipython",
    "version": 3
   },
   "file_extension": ".py",
   "mimetype": "text/x-python",
   "name": "python",
   "nbconvert_exporter": "python",
   "pygments_lexer": "ipython3",
   "version": "3.9.16"
  }
 },
 "nbformat": 4,
 "nbformat_minor": 5
}
