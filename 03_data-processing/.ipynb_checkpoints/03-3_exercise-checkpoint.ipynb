{
 "cells": [
  {
   "cell_type": "markdown",
   "id": "e8ee4ce0-cfc9-4f9c-8579-1dfb0bfe8415",
   "metadata": {
    "tags": []
   },
   "source": [
    "# 03 -- Exercise (Data Processing in Python)"
   ]
  },
  {
   "cell_type": "code",
   "execution_count": 1,
   "id": "81031f6d-7520-4767-ae87-7152d69f31ff",
   "metadata": {},
   "outputs": [],
   "source": [
    "%load_ext watermark"
   ]
  },
  {
   "cell_type": "code",
   "execution_count": 2,
   "id": "f0154364-5b46-476f-af2d-5ae2638415c3",
   "metadata": {},
   "outputs": [
    {
     "name": "stdout",
     "output_type": "stream",
     "text": [
      "Author: Sebastian Raschka\n",
      "\n",
      "numpy       : 1.23.5\n",
      "scikit-learn: 1.2.2\n",
      "\n"
     ]
    }
   ],
   "source": [
    "%watermark -a \"Sebastian Raschka\" -p numpy,scikit-learn"
   ]
  },
  {
   "cell_type": "markdown",
   "id": "41bf768f-632c-4707-88db-14588a9722c7",
   "metadata": {},
   "source": [
    "## About the Dataset"
   ]
  },
  {
   "cell_type": "markdown",
   "id": "8da53d18-bac0-4eb4-bbb6-e7c70be8079d",
   "metadata": {},
   "source": [
    "Dataset URL: https://archive.ics.uci.edu/dataset/602/dry+bean+dataset"
   ]
  },
  {
   "cell_type": "markdown",
   "id": "c229132f-0c4b-490b-97c9-a7e895cfca5e",
   "metadata": {},
   "source": [
    "Images of 13,611 grains of 7 different registered dry beans were taken with a high-resolution camera. A total of 16 features; 12 dimensions and 4 shape forms, were obtained from the grains."
   ]
  },
  {
   "cell_type": "markdown",
   "id": "0eb34bbe-c03f-4830-b6be-391c7d6d5325",
   "metadata": {},
   "source": [
    "## Tasks"
   ]
  },
  {
   "cell_type": "markdown",
   "id": "a1d827dd-5133-4264-a38f-edbf79c8ca8d",
   "metadata": {},
   "source": [
    "1. Load the dataset from `data/Dry_Bean_Dataset.csv`.\n",
    "\n",
    "2. Identify whether there is categorical data that needs to be encoded.\n",
    "\n",
    "3. Remove missing data if applicable (Hint: use `df.isna().sum()`).\n",
    "\n",
    "4. Divide the DataFrame into features `X` and labels `y` (Hint: `df_without_B = df.drop(columns=['B'])`).\n",
    "\n",
    "5. Split the dataset into 60% train data, 10% validation data, 30% test data.\n",
    "\n",
    "6. Scale the dataset using z-score normalization (standardization).\n",
    "\n",
    "7. Train a K-nearest neighbor classifier (Hint: feel free to reuse code from the previous exercise, `02-2_exercise.ipynb`).\n"
   ]
  },
  {
   "cell_type": "code",
   "execution_count": null,
   "id": "f356255b-5886-4661-9ef4-f495ef4bc91c",
   "metadata": {},
   "outputs": [],
   "source": []
  }
 ],
 "metadata": {
  "kernelspec": {
   "display_name": "Python 3 (ipykernel)",
   "language": "python",
   "name": "python3"
  },
  "language_info": {
   "codemirror_mode": {
    "name": "ipython",
    "version": 3
   },
   "file_extension": ".py",
   "mimetype": "text/x-python",
   "name": "python",
   "nbconvert_exporter": "python",
   "pygments_lexer": "ipython3",
   "version": "3.10.6"
  }
 },
 "nbformat": 4,
 "nbformat_minor": 5
}
