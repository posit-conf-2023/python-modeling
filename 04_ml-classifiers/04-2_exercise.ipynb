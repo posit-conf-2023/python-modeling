{
 "cells": [
  {
   "cell_type": "markdown",
   "id": "8a810df1-17a5-450c-a24c-60298a77fa9b",
   "metadata": {},
   "source": [
    "# 04 -- Exercise + Solution (Evaluating & Tuning Machine Learning Classifiers)"
   ]
  },
  {
   "cell_type": "markdown",
   "id": "2507f774-6994-444a-b00c-f4e4e74865d6",
   "metadata": {},
   "source": [
    "**Task:** Tune a multilayer perceptron classifier using randomized search such that the 5-fold k-fold CV performance reaches >93%.\n",
    "\n",
    "**Hints:**\n",
    "\n",
    "- Note: use the `RandomizedCV?` call to get details on the usage and attributes you might find helpful (`.best_params_`, `.best_score_`).\n",
    "\n",
    "- Note: use the `MLPClassifier?` call to get details on the hyperparamter names.\n",
    "\n",
    "- Choose a reasonable number of search iterations so that the code finishes in reasonable time (perhaps start small).\n",
    "\n",
    "- Recommended hyperparameters to consider: \n",
    "   - hidden layer size\n",
    "   - initial learning rate\n",
    "   - activation function\n",
    "   \n",
    "\n",
    "\n",
    "**Final evaluation:**\n",
    "\n",
    "- What are the final best hyperparameter settings? (Hint: Access the `.best_params_` attribute after fitting).\n",
    "- Once you reached a satisfactory k-fold CV performance, evaluate the model on the test set.\n",
    "- Optionally also plot a confusion matrix."
   ]
  },
  {
   "cell_type": "markdown",
   "id": "819bf438-a42f-418f-b152-87a9aa2289d4",
   "metadata": {},
   "source": [
    "## Given dataset (no need to modify :))"
   ]
  },
  {
   "cell_type": "code",
   "execution_count": null,
   "id": "1e8b9043-91db-4650-8ff2-c7cdb205e2cc",
   "metadata": {},
   "outputs": [],
   "source": [
    "import pandas as pd\n",
    "from sklearn.model_selection import train_test_split\n",
    "\n",
    "df = pd.read_csv(\"data/Dry_Bean_Dataset.csv\")\n",
    "\n",
    "# drop rows with missing values:\n",
    "df = df.dropna(axis=0)\n",
    "\n",
    "df_X = df.drop(columns=[\"Class\"])\n",
    "df_y = df[\"Class\"]\n",
    "\n",
    "X_train, X_temp, y_train, y_temp = train_test_split(\n",
    "    df_X, df_y, test_size=0.4, random_state=123, stratify=df_y)\n",
    "\n",
    "X_val, X_test, y_val, y_test = train_test_split(\n",
    "    df_X, df_y, test_size=0.75, random_state=123, stratify=df_y)"
   ]
  },
  {
   "cell_type": "markdown",
   "id": "508c44b3-4c30-45a9-95a9-0032e22ab795",
   "metadata": {},
   "source": [
    "## Given pipeline (no need to modify :))"
   ]
  },
  {
   "cell_type": "code",
   "execution_count": 3,
   "id": "e0c1f94b-3359-431e-8836-598e7f53d9d4",
   "metadata": {},
   "outputs": [],
   "source": [
    "from sklearn.model_selection import RandomizedSearchCV\n",
    "from sklearn.neural_network import MLPClassifier\n",
    "from sklearn.preprocessing import StandardScaler\n",
    "from sklearn.pipeline import make_pipeline\n",
    "\n",
    "\n",
    "sc = StandardScaler()\n",
    "model = MLPClassifier(max_iter=500)\n",
    "pipe = make_pipeline(sc, model)"
   ]
  },
  {
   "cell_type": "code",
   "execution_count": 4,
   "id": "7e61de1d-e905-49c7-a2cb-1293afac434b",
   "metadata": {},
   "outputs": [
    {
     "name": "stdout",
     "output_type": "stream",
     "text": [
      "Pipeline(steps=[('standardscaler', StandardScaler()),\n",
      "                ('mlpclassifier', MLPClassifier(max_iter=500))])\n"
     ]
    }
   ],
   "source": [
    "print(pipe)"
   ]
  },
  {
   "cell_type": "code",
   "execution_count": 5,
   "id": "8c300d92-2ea1-497f-a848-e4f3a1b2d124",
   "metadata": {},
   "outputs": [],
   "source": [
    "# MLPClassifier?"
   ]
  },
  {
   "cell_type": "markdown",
   "id": "23dfdbda-4e8c-4691-b921-ed88c7c5f133",
   "metadata": {},
   "source": [
    "## Code you need to modify below here:"
   ]
  },
  {
   "cell_type": "code",
   "execution_count": 6,
   "id": "e0650e99-e034-4d48-b2ee-cb6493fe54b8",
   "metadata": {},
   "outputs": [],
   "source": [
    "from scipy.stats import loguniform\n",
    "\n",
    "param_distributions = {\n",
    "     \"mlpclassifier__???\": ???,\n",
    "     \"mlpclassifier__???\": ???,\n",
    "     \"mlpclassifier__???\": ???\n",
    "}\n",
    "\n",
    "rcv = RandomizedSearchCV(\n",
    "    pipe, param_distributions, ...)"
   ]
  },
  {
   "cell_type": "code",
   "execution_count": 7,
   "id": "d6ac5ded-e388-4a20-a49d-46a75cf8bdd1",
   "metadata": {},
   "outputs": [
    {
     "name": "stdout",
     "output_type": "stream",
     "text": [
      "Fitting 5 folds for each of 50 candidates, totalling 250 fits\n"
     ]
    },
    {
     "name": "stderr",
     "output_type": "stream",
     "text": [
      "/Users/sebastian/miniforge3/lib/python3.10/site-packages/sklearn/neural_network/_multilayer_perceptron.py:686: ConvergenceWarning: Stochastic Optimizer: Maximum iterations (500) reached and the optimization hasn't converged yet.\n",
      "  warnings.warn(\n",
      "/Users/sebastian/miniforge3/lib/python3.10/site-packages/sklearn/neural_network/_multilayer_perceptron.py:686: ConvergenceWarning: Stochastic Optimizer: Maximum iterations (500) reached and the optimization hasn't converged yet.\n",
      "  warnings.warn(\n"
     ]
    },
    {
     "data": {
      "text/html": [
       "<style>#sk-container-id-1 {color: black;background-color: white;}#sk-container-id-1 pre{padding: 0;}#sk-container-id-1 div.sk-toggleable {background-color: white;}#sk-container-id-1 label.sk-toggleable__label {cursor: pointer;display: block;width: 100%;margin-bottom: 0;padding: 0.3em;box-sizing: border-box;text-align: center;}#sk-container-id-1 label.sk-toggleable__label-arrow:before {content: \"▸\";float: left;margin-right: 0.25em;color: #696969;}#sk-container-id-1 label.sk-toggleable__label-arrow:hover:before {color: black;}#sk-container-id-1 div.sk-estimator:hover label.sk-toggleable__label-arrow:before {color: black;}#sk-container-id-1 div.sk-toggleable__content {max-height: 0;max-width: 0;overflow: hidden;text-align: left;background-color: #f0f8ff;}#sk-container-id-1 div.sk-toggleable__content pre {margin: 0.2em;color: black;border-radius: 0.25em;background-color: #f0f8ff;}#sk-container-id-1 input.sk-toggleable__control:checked~div.sk-toggleable__content {max-height: 200px;max-width: 100%;overflow: auto;}#sk-container-id-1 input.sk-toggleable__control:checked~label.sk-toggleable__label-arrow:before {content: \"▾\";}#sk-container-id-1 div.sk-estimator input.sk-toggleable__control:checked~label.sk-toggleable__label {background-color: #d4ebff;}#sk-container-id-1 div.sk-label input.sk-toggleable__control:checked~label.sk-toggleable__label {background-color: #d4ebff;}#sk-container-id-1 input.sk-hidden--visually {border: 0;clip: rect(1px 1px 1px 1px);clip: rect(1px, 1px, 1px, 1px);height: 1px;margin: -1px;overflow: hidden;padding: 0;position: absolute;width: 1px;}#sk-container-id-1 div.sk-estimator {font-family: monospace;background-color: #f0f8ff;border: 1px dotted black;border-radius: 0.25em;box-sizing: border-box;margin-bottom: 0.5em;}#sk-container-id-1 div.sk-estimator:hover {background-color: #d4ebff;}#sk-container-id-1 div.sk-parallel-item::after {content: \"\";width: 100%;border-bottom: 1px solid gray;flex-grow: 1;}#sk-container-id-1 div.sk-label:hover label.sk-toggleable__label {background-color: #d4ebff;}#sk-container-id-1 div.sk-serial::before {content: \"\";position: absolute;border-left: 1px solid gray;box-sizing: border-box;top: 0;bottom: 0;left: 50%;z-index: 0;}#sk-container-id-1 div.sk-serial {display: flex;flex-direction: column;align-items: center;background-color: white;padding-right: 0.2em;padding-left: 0.2em;position: relative;}#sk-container-id-1 div.sk-item {position: relative;z-index: 1;}#sk-container-id-1 div.sk-parallel {display: flex;align-items: stretch;justify-content: center;background-color: white;position: relative;}#sk-container-id-1 div.sk-item::before, #sk-container-id-1 div.sk-parallel-item::before {content: \"\";position: absolute;border-left: 1px solid gray;box-sizing: border-box;top: 0;bottom: 0;left: 50%;z-index: -1;}#sk-container-id-1 div.sk-parallel-item {display: flex;flex-direction: column;z-index: 1;position: relative;background-color: white;}#sk-container-id-1 div.sk-parallel-item:first-child::after {align-self: flex-end;width: 50%;}#sk-container-id-1 div.sk-parallel-item:last-child::after {align-self: flex-start;width: 50%;}#sk-container-id-1 div.sk-parallel-item:only-child::after {width: 0;}#sk-container-id-1 div.sk-dashed-wrapped {border: 1px dashed gray;margin: 0 0.4em 0.5em 0.4em;box-sizing: border-box;padding-bottom: 0.4em;background-color: white;}#sk-container-id-1 div.sk-label label {font-family: monospace;font-weight: bold;display: inline-block;line-height: 1.2em;}#sk-container-id-1 div.sk-label-container {text-align: center;}#sk-container-id-1 div.sk-container {/* jupyter's `normalize.less` sets `[hidden] { display: none; }` but bootstrap.min.css set `[hidden] { display: none !important; }` so we also need the `!important` here to be able to override the default hidden behavior on the sphinx rendered scikit-learn.org. See: https://github.com/scikit-learn/scikit-learn/issues/21755 */display: inline-block !important;position: relative;}#sk-container-id-1 div.sk-text-repr-fallback {display: none;}</style><div id=\"sk-container-id-1\" class=\"sk-top-container\"><div class=\"sk-text-repr-fallback\"><pre>RandomizedSearchCV(cv=5,\n",
       "                   estimator=Pipeline(steps=[(&#x27;standardscaler&#x27;,\n",
       "                                              StandardScaler()),\n",
       "                                             (&#x27;mlpclassifier&#x27;,\n",
       "                                              MLPClassifier(max_iter=500))]),\n",
       "                   n_iter=50,\n",
       "                   param_distributions={&#x27;mlpclassifier__activation&#x27;: [&#x27;logistic&#x27;,\n",
       "                                                                      &#x27;tanh&#x27;,\n",
       "                                                                      &#x27;relu&#x27;],\n",
       "                                        &#x27;mlpclassifier__hidden_layer_sizes&#x27;: [5,\n",
       "                                                                              10,\n",
       "                                                                              25,\n",
       "                                                                              50,\n",
       "                                                                              [5,\n",
       "                                                                               10],\n",
       "                                                                              [10,\n",
       "                                                                               10]],\n",
       "                                        &#x27;mlpclassifier__learning_rate_init&#x27;: &lt;scipy.stats._distn_infrastructure.rv_continuous_frozen object at 0x14447dea0&gt;},\n",
       "                   random_state=123, verbose=1)</pre><b>In a Jupyter environment, please rerun this cell to show the HTML representation or trust the notebook. <br />On GitHub, the HTML representation is unable to render, please try loading this page with nbviewer.org.</b></div><div class=\"sk-container\" hidden><div class=\"sk-item sk-dashed-wrapped\"><div class=\"sk-label-container\"><div class=\"sk-label sk-toggleable\"><input class=\"sk-toggleable__control sk-hidden--visually\" id=\"sk-estimator-id-1\" type=\"checkbox\" ><label for=\"sk-estimator-id-1\" class=\"sk-toggleable__label sk-toggleable__label-arrow\">RandomizedSearchCV</label><div class=\"sk-toggleable__content\"><pre>RandomizedSearchCV(cv=5,\n",
       "                   estimator=Pipeline(steps=[(&#x27;standardscaler&#x27;,\n",
       "                                              StandardScaler()),\n",
       "                                             (&#x27;mlpclassifier&#x27;,\n",
       "                                              MLPClassifier(max_iter=500))]),\n",
       "                   n_iter=50,\n",
       "                   param_distributions={&#x27;mlpclassifier__activation&#x27;: [&#x27;logistic&#x27;,\n",
       "                                                                      &#x27;tanh&#x27;,\n",
       "                                                                      &#x27;relu&#x27;],\n",
       "                                        &#x27;mlpclassifier__hidden_layer_sizes&#x27;: [5,\n",
       "                                                                              10,\n",
       "                                                                              25,\n",
       "                                                                              50,\n",
       "                                                                              [5,\n",
       "                                                                               10],\n",
       "                                                                              [10,\n",
       "                                                                               10]],\n",
       "                                        &#x27;mlpclassifier__learning_rate_init&#x27;: &lt;scipy.stats._distn_infrastructure.rv_continuous_frozen object at 0x14447dea0&gt;},\n",
       "                   random_state=123, verbose=1)</pre></div></div></div><div class=\"sk-parallel\"><div class=\"sk-parallel-item\"><div class=\"sk-item\"><div class=\"sk-label-container\"><div class=\"sk-label sk-toggleable\"><input class=\"sk-toggleable__control sk-hidden--visually\" id=\"sk-estimator-id-2\" type=\"checkbox\" ><label for=\"sk-estimator-id-2\" class=\"sk-toggleable__label sk-toggleable__label-arrow\">estimator: Pipeline</label><div class=\"sk-toggleable__content\"><pre>Pipeline(steps=[(&#x27;standardscaler&#x27;, StandardScaler()),\n",
       "                (&#x27;mlpclassifier&#x27;, MLPClassifier(max_iter=500))])</pre></div></div></div><div class=\"sk-serial\"><div class=\"sk-item\"><div class=\"sk-serial\"><div class=\"sk-item\"><div class=\"sk-estimator sk-toggleable\"><input class=\"sk-toggleable__control sk-hidden--visually\" id=\"sk-estimator-id-3\" type=\"checkbox\" ><label for=\"sk-estimator-id-3\" class=\"sk-toggleable__label sk-toggleable__label-arrow\">StandardScaler</label><div class=\"sk-toggleable__content\"><pre>StandardScaler()</pre></div></div></div><div class=\"sk-item\"><div class=\"sk-estimator sk-toggleable\"><input class=\"sk-toggleable__control sk-hidden--visually\" id=\"sk-estimator-id-4\" type=\"checkbox\" ><label for=\"sk-estimator-id-4\" class=\"sk-toggleable__label sk-toggleable__label-arrow\">MLPClassifier</label><div class=\"sk-toggleable__content\"><pre>MLPClassifier(max_iter=500)</pre></div></div></div></div></div></div></div></div></div></div></div></div>"
      ],
      "text/plain": [
       "RandomizedSearchCV(cv=5,\n",
       "                   estimator=Pipeline(steps=[('standardscaler',\n",
       "                                              StandardScaler()),\n",
       "                                             ('mlpclassifier',\n",
       "                                              MLPClassifier(max_iter=500))]),\n",
       "                   n_iter=50,\n",
       "                   param_distributions={'mlpclassifier__activation': ['logistic',\n",
       "                                                                      'tanh',\n",
       "                                                                      'relu'],\n",
       "                                        'mlpclassifier__hidden_layer_sizes': [5,\n",
       "                                                                              10,\n",
       "                                                                              25,\n",
       "                                                                              50,\n",
       "                                                                              [5,\n",
       "                                                                               10],\n",
       "                                                                              [10,\n",
       "                                                                               10]],\n",
       "                                        'mlpclassifier__learning_rate_init': <scipy.stats._distn_infrastructure.rv_continuous_frozen object at 0x14447dea0>},\n",
       "                   random_state=123, verbose=1)"
      ]
     },
     "execution_count": 7,
     "metadata": {},
     "output_type": "execute_result"
    }
   ],
   "source": [
    "rcv.fit(X_train, y_train)"
   ]
  }
 ],
 "metadata": {
  "kernelspec": {
   "display_name": "Python 3 (ipykernel)",
   "language": "python",
   "name": "python3"
  },
  "language_info": {
   "codemirror_mode": {
    "name": "ipython",
    "version": 3
   },
   "file_extension": ".py",
   "mimetype": "text/x-python",
   "name": "python",
   "nbconvert_exporter": "python",
   "pygments_lexer": "ipython3",
   "version": "3.10.6"
  }
 },
 "nbformat": 4,
 "nbformat_minor": 5
}
